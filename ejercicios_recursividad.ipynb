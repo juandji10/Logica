{
 "cells": [
  {
   "cell_type": "markdown",
   "id": "a674e3dd",
   "metadata": {},
   "source": [
    "EJERCICIOS DE RECURSIVIDAD --->"
   ]
  },
  {
   "cell_type": "code",
   "execution_count": null,
   "id": "91cf8128",
   "metadata": {},
   "outputs": [],
   "source": [
    "#  CODIGO CON ERRORES\n",
    "\n",
    "# # def contar_pares(lista):\n",
    "#     if len(lista)==0:\n",
    "#         return 0\n",
    "#     if lista [0] % 2 == 0:\n",
    "#         return 1\n",
    "#     else:\n",
    "#         return contar_pares(lista[1:])\n",
    "    \n",
    "# array = [3,4,5,7,8,9,4,2,6,7,8,9,4]\n",
    "# print (contar_pares(array))  \n",
    "#++++++++++++++++++++++++++++++++++++++++++++++++++++++++\n",
    "\n",
    "#CODIGO CORREGIDO\n",
    "def contar_pares(lista):\n",
    "    # Caso base: lista vacía\n",
    "    if len(lista)== 0:\n",
    "        return 0\n",
    "    \n",
    "    # Caso recursivo\n",
    "    if lista[0] % 2 == 0:\n",
    "        # Sumo 1 si el primer elemento es par y sigo con el resto\n",
    "        return 1 + contar_pares(lista[1:])\n",
    "    else:\n",
    "        # Si no es par, no sumo y sigo con el resto\n",
    "        return contar_pares(lista[1:])\n",
    "\n",
    "# Prueba\n",
    "array = [2,4,5,7,8,9,11,12,14,15,17,20]\n",
    "print(contar_pares(array))\n"
   ]
  },
  {
   "cell_type": "code",
   "execution_count": null,
   "id": "66c88012",
   "metadata": {},
   "outputs": [
    {
     "name": "stdout",
     "output_type": "stream",
     "text": [
      "6\n",
      "p\n",
      "py\n",
      "pyt\n",
      "pyth\n",
      "pytho\n",
      "python\n",
      "6\n",
      "6\n",
      "6\n",
      "6\n",
      "6\n",
      "6\n"
     ]
    }
   ],
   "source": [
    "#EJERCICIO DE IMPRIMIR UNA PALBRA EN ESCALERA\n",
    "# Dada una palabra, escribir un algoritmo recursivo en Python que imprima la palabra\n",
    "# en forma de escalera: una letra por línea, agregando una letra en cada línea hasta \n",
    "# completar la palabra.\n",
    "def escalera(palabra, k=1):\n",
    "    if k > len(palabra):\n",
    "        return \n",
    "    print (palabra[:k])\n",
    "    escalera(palabra, k+1)\n",
    "    \n",
    "    \n",
    "\n",
    "palabra = \"python\"\n",
    "print(len(palabra))\n",
    "escalera(palabra)\n",
    "    \n",
    "    "
   ]
  },
  {
   "cell_type": "code",
   "execution_count": 4,
   "id": "c8827618",
   "metadata": {},
   "outputs": [
    {
     "data": {
      "text/plain": [
       "'Es palindromo'"
      ]
     },
     "execution_count": 4,
     "metadata": {},
     "output_type": "execute_result"
    }
   ],
   "source": [
    "#palindromo recursivo\n",
    "def es_palindromo(s, i=0):\n",
    "    j = len(s) - 1 - i\n",
    "    if i >= j:\n",
    "        return \"Es palindromo\"\n",
    "    if s[i] != s[j]:\n",
    "        return \"No es palindromo\"\n",
    "    return es_palindromo(s, i+1)\n",
    "\n",
    "es_palindromo(\"aerea\")\n"
   ]
  },
  {
   "cell_type": "code",
   "execution_count": null,
   "id": "6e32fec1",
   "metadata": {},
   "outputs": [
    {
     "ename": "TypeError",
     "evalue": "can only concatenate str (not \"int\") to str",
     "output_type": "error",
     "traceback": [
      "\u001b[1;31m---------------------------------------------------------------------------\u001b[0m",
      "\u001b[1;31mTypeError\u001b[0m                                 Traceback (most recent call last)",
      "Input \u001b[1;32mIn [6]\u001b[0m, in \u001b[0;36m<cell line: 16>\u001b[1;34m()\u001b[0m\n\u001b[0;32m     14\u001b[0m obj \u001b[38;5;241m=\u001b[39m \u001b[38;5;241m4\u001b[39m\n\u001b[0;32m     15\u001b[0m resultado \u001b[38;5;241m=\u001b[39m busqueda_binaria(numeros,obj,\u001b[38;5;241m0\u001b[39m,\u001b[38;5;28mlen\u001b[39m(numeros)\u001b[38;5;241m-\u001b[39m\u001b[38;5;241m1\u001b[39m)\n\u001b[1;32m---> 16\u001b[0m \u001b[38;5;28mprint\u001b[39m(\u001b[38;5;124;43m\"\u001b[39;49m\u001b[38;5;124;43mel objetivo está en el indice --> \u001b[39;49m\u001b[38;5;124;43m\"\u001b[39;49m\u001b[38;5;241;43m+\u001b[39;49m\u001b[43m \u001b[49m\u001b[43mresultado\u001b[49m)\n",
      "\u001b[1;31mTypeError\u001b[0m: can only concatenate str (not \"int\") to str"
     ]
    }
   ],
   "source": [
    "def busqueda_binaria (arr,obj,izq,der):\n",
    "    if izq > der:\n",
    "        return -1\n",
    "    indiceMedio= (izq+der)//2\n",
    "    valorMedio = arr[indiceMedio]\n",
    "    if valorMedio == obj:\n",
    "        return indiceMedio\n",
    "    if obj < valorMedio:\n",
    "        return busqueda_binaria(arr,obj,izq,indiceMedio-1)\n",
    "    else:\n",
    "        return busqueda_binaria(arr,obj,indiceMedio+1,der)\n",
    "    \n",
    "numeros =[1,3,4,5,7,8,12,23,40]\n",
    "obj = 4\n",
    "resultado = busqueda_binaria(numeros,obj,0,len(numeros)-1)\n",
    "print(f\"el objetivo está en el indice --> {resultado}\")"
   ]
  },
  {
   "cell_type": "code",
   "execution_count": null,
   "id": "d3dfdb41",
   "metadata": {},
   "outputs": [
    {
     "data": {
      "text/plain": [
       "[1, 2, 3, 4, 5, 6]"
      ]
     },
     "execution_count": 1,
     "metadata": {},
     "output_type": "execute_result"
    }
   ],
   "source": [
    "#invertir lista\n",
    "def invertir_lista(lst):\n",
    "    \n",
    "    if not lst:\n",
    "        return []\n",
    "    # tomar el primer elemento y agregar al final de la lista invertida del resto\n",
    "    return invertir_lista(lst[1:]) + [lst[0]]\n",
    "\n",
    "invertir_lista([6,5,4,3,2,1])"
   ]
  }
 ],
 "metadata": {
  "kernelspec": {
   "display_name": "Python 3",
   "language": "python",
   "name": "python3"
  },
  "language_info": {
   "codemirror_mode": {
    "name": "ipython",
    "version": 3
   },
   "file_extension": ".py",
   "mimetype": "text/x-python",
   "name": "python",
   "nbconvert_exporter": "python",
   "pygments_lexer": "ipython3",
   "version": "3.10.4"
  }
 },
 "nbformat": 4,
 "nbformat_minor": 5
}
