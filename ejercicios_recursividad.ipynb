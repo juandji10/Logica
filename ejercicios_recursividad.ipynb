{
 "cells": [
  {
   "cell_type": "markdown",
   "id": "a674e3dd",
   "metadata": {},
   "source": [
    "EJERCICIOS DE RECURSIVIDAD --->"
   ]
  },
  {
   "cell_type": "code",
   "execution_count": null,
   "id": "91cf8128",
   "metadata": {},
   "outputs": [],
   "source": [
    "#  CODIGO CON ERRORES\n",
    "\n",
    "# # def contar_pares(lista):\n",
    "#     if len(lista)==0:\n",
    "#         return 0\n",
    "#     if lista [0] % 2 == 0:\n",
    "#         return 1\n",
    "#     else:\n",
    "#         return contar_pares(lista[1:])\n",
    "    \n",
    "# array = [3,4,5,7,8,9,4,2,6,7,8,9,4]\n",
    "# print (contar_pares(array))  \n",
    "#++++++++++++++++++++++++++++++++++++++++++++++++++++++++\n",
    "\n",
    "#CODIGO CORREGIDO\n",
    "def contar_pares(lista):\n",
    "    # Caso base: lista vacía\n",
    "    if len(lista)== 0:\n",
    "        return 0\n",
    "    \n",
    "    # Caso recursivo\n",
    "    if lista[0] % 2 == 0:\n",
    "        # Sumo 1 si el primer elemento es par y sigo con el resto\n",
    "        return 1 + contar_pares(lista[1:])\n",
    "    else:\n",
    "        # Si no es par, no sumo y sigo con el resto\n",
    "        return contar_pares(lista[1:])\n",
    "\n",
    "# Prueba\n",
    "array = [2,4,5,7,8,9,11,12,14,15,17,20]\n",
    "print(contar_pares(array))\n"
   ]
  },
  {
   "cell_type": "code",
   "execution_count": null,
   "id": "66c88012",
   "metadata": {},
   "outputs": [
    {
     "name": "stdout",
     "output_type": "stream",
     "text": [
      "6\n",
      "p\n",
      "py\n",
      "pyt\n",
      "pyth\n",
      "pytho\n",
      "python\n",
      "6\n",
      "6\n",
      "6\n",
      "6\n",
      "6\n",
      "6\n"
     ]
    }
   ],
   "source": [
    "#EJERCICIO DE IMPRIMIR UNA PALBRA EN ESCALERA\n",
    "# Dada una palabra, escribir un algoritmo recursivo en Python que imprima la palabra\n",
    "# en forma de escalera: una letra por línea, agregando una letra en cada línea hasta \n",
    "# completar la palabra.\n",
    "def escalera(palabra, k=1):\n",
    "    if k > len(palabra):\n",
    "        return \n",
    "    print (palabra[:k])\n",
    "    escalera(palabra, k+1)\n",
    "    \n",
    "    \n",
    "\n",
    "palabra = \"python\"\n",
    "print(len(palabra))\n",
    "escalera(palabra)\n",
    "    \n",
    "    "
   ]
  },
  {
   "cell_type": "code",
   "execution_count": 3,
   "id": "c8827618",
   "metadata": {},
   "outputs": [
    {
     "data": {
      "text/plain": [
       "False"
      ]
     },
     "execution_count": 3,
     "metadata": {},
     "output_type": "execute_result"
    }
   ],
   "source": [
    "#palindromo recursivo\n",
    "def es_palindromo(s, i=0):\n",
    "    j = len(s) - 1 - i\n",
    "    if i >= j:\n",
    "        return True\n",
    "    if s[i] != s[j]:\n",
    "        return False\n",
    "    return es_palindromo(s, i+1)\n",
    "\n",
    "es_palindromo(\"hola\")\n"
   ]
  },
  {
   "cell_type": "code",
   "execution_count": null,
   "id": "d3dfdb41",
   "metadata": {},
   "outputs": [
    {
     "data": {
      "text/plain": [
       "[1, 2, 3, 4, 5, 6]"
      ]
     },
     "execution_count": 1,
     "metadata": {},
     "output_type": "execute_result"
    }
   ],
   "source": [
    "#invertir lista\n",
    "def invertir_lista(lst):\n",
    "    \n",
    "    if not lst:\n",
    "        return []\n",
    "    # tomar el primer elemento y agregar al final de la lista invertida del resto\n",
    "    return invertir_lista(lst[1:]) + [lst[0]]\n",
    "\n",
    "invertir_lista([6,5,4,3,2,1])"
   ]
  }
 ],
 "metadata": {
  "kernelspec": {
   "display_name": "Python 3",
   "language": "python",
   "name": "python3"
  },
  "language_info": {
   "codemirror_mode": {
    "name": "ipython",
    "version": 3
   },
   "file_extension": ".py",
   "mimetype": "text/x-python",
   "name": "python",
   "nbconvert_exporter": "python",
   "pygments_lexer": "ipython3",
   "version": "3.10.4"
  }
 },
 "nbformat": 4,
 "nbformat_minor": 5
}
